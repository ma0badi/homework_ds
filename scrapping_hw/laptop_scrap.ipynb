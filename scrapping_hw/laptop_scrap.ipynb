{
 "cells": [
  {
   "cell_type": "code",
   "execution_count": 10,
   "metadata": {},
   "outputs": [],
   "source": [
    "import requests\n",
    "from bs4 import BeautifulSoup\n",
    "import pandas as pd"
   ]
  },
  {
   "cell_type": "code",
   "execution_count": 12,
   "metadata": {},
   "outputs": [
    {
     "data": {
      "text/plain": [
       "<Response [200]>"
      ]
     },
     "execution_count": 12,
     "metadata": {},
     "output_type": "execute_result"
    }
   ],
   "source": [
    "url = \"https://www.flipkart.com/search?q=gaming%20laptops&otracker=search&otracker1=search&marketplace=FLIPKART&as-show=on&as=off\"\n",
    "page = requests.get(url)\n",
    "page"
   ]
  },
  {
   "cell_type": "code",
   "execution_count": 13,
   "metadata": {},
   "outputs": [
    {
     "data": {
      "text/plain": [
       "40"
      ]
     },
     "execution_count": 13,
     "metadata": {},
     "output_type": "execute_result"
    }
   ],
   "source": [
    "soup = BeautifulSoup(page.text, \"html.parser\")\n",
    "soup.prettify()\n",
    "\n",
    "main_box = soup.find_all('div', {'class':'_4ddWXP'})\n",
    "len(main_box)\n"
   ]
  },
  {
   "cell_type": "code",
   "execution_count": 14,
   "metadata": {},
   "outputs": [
    {
     "data": {
      "text/plain": [
       "<div class=\"_4ddWXP\"><a class=\"_2rpwqI\" href=\"/asus-tuf-gaming-f15-core-i5-10th-gen-8-gb-512-gb-ssd-windows-11-home-4-graphics-nvidia-geforce-gtx-1650-144-hz-fx506lhb-hn358w-laptop/p/itm4d930ab779cbd?pid=COMGF9Z7JYCFBKAP&amp;lid=LSTCOMGF9Z7JYCFBKAPXYET0O&amp;marketplace=FLIPKART&amp;q=gaming+laptops&amp;store=4rr%2Ftz1&amp;spotlightTagId=BestsellerId_4rr%2Ftz1&amp;srno=s_1_1&amp;otracker=search&amp;otracker1=search&amp;fm=organic&amp;iid=f823df0b-a918-4272-b453-97b0250495b4.COMGF9Z7JYCFBKAP.SEARCH&amp;ppt=None&amp;ppn=None&amp;ssid=nxre75z6tc0000001678449532727&amp;qH=a5acd8458468e203\" rel=\"noopener noreferrer\" target=\"_blank\"><div><div><div class=\"CXW8mj\" style=\"height:280px;width:200px\"><img alt=\"ASUS TUF Gaming F15 Core i5 10th Gen - (8 GB/512 GB SSD/Windows 11 Home/4 GB Graphics/NVIDIA GeForce GTX 1650/144 Hz) FX506LHB-HN358W Gaming Laptop\" class=\"_396cs4\" loading=\"eager\" src=\"https://rukminim1.flixcart.com/image/612/612/l3rmzrk0/computer/s/z/r/-original-imagetgzg4pgszmt.jpeg?q=70\"/></div></div></div><div></div><div class=\"_2hVSre _1eAP-x\"><div class=\"_36FSn5\"><svg class=\"_1l0elc\" height=\"16\" viewbox=\"0 0 20 16\" width=\"16\" xmlns=\"http://www.w3.org/2000/svg\"><path class=\"eX72wL\" d=\"M8.695 16.682C4.06 12.382 1 9.536 1 6.065 1 3.219 3.178 1 5.95 1c1.566 0 3.069.746 4.05 1.915C10.981 1.745 12.484 1 14.05 1 16.822 1 19 3.22 19 6.065c0 3.471-3.06 6.316-7.695 10.617L10 17.897l-1.305-1.215z\" fill=\"#2874F0\" fill-rule=\"evenodd\" opacity=\".9\" stroke=\"#FFF\"></path></svg></div></div></a><a class=\"s1Q9rs\" href=\"/asus-tuf-gaming-f15-core-i5-10th-gen-8-gb-512-gb-ssd-windows-11-home-4-graphics-nvidia-geforce-gtx-1650-144-hz-fx506lhb-hn358w-laptop/p/itm4d930ab779cbd?pid=COMGF9Z7JYCFBKAP&amp;lid=LSTCOMGF9Z7JYCFBKAPXYET0O&amp;marketplace=FLIPKART&amp;q=gaming+laptops&amp;store=4rr%2Ftz1&amp;spotlightTagId=BestsellerId_4rr%2Ftz1&amp;srno=s_1_1&amp;otracker=search&amp;otracker1=search&amp;fm=organic&amp;iid=f823df0b-a918-4272-b453-97b0250495b4.COMGF9Z7JYCFBKAP.SEARCH&amp;ppt=None&amp;ppn=None&amp;ssid=nxre75z6tc0000001678449532727&amp;qH=a5acd8458468e203\" rel=\"noopener noreferrer\" target=\"_blank\" title=\"ASUS TUF Gaming F15 Core i5 10th Gen - (8 GB/512 GB SSD/Windows 11 Home/4 GB Graphics/NVIDIA GeForce GTX 1650/144 Hz) FX506LHB-HN358W Gaming Laptop\">ASUS TUF Gaming F15 Core i5 10th Gen - (8 GB/512 GB SSD...</a><div class=\"_3Djpdu\">15.6 inch, Black Plastic, 2.30 kg kg</div><div class=\"gUuXy- _2D5lwg\"><span class=\"_1lRcqv\" id=\"productRating_LSTCOMGF9Z7JYCFBKAPXYET0O_COMGF9Z7JYCFBKAP_\"><div class=\"_3LWZlK\">4.4<img class=\"_1wB99o\" src=\"data:image/svg+xml;base64,PHN2ZyB4bWxucz0iaHR0cDovL3d3dy53My5vcmcvMjAwMC9zdmciIHdpZHRoPSIxMyIgaGVpZ2h0PSIxMiI+PHBhdGggZmlsbD0iI0ZGRiIgZD0iTTYuNSA5LjQzOWwtMy42NzQgMi4yMy45NC00LjI2LTMuMjEtMi44ODMgNC4yNTQtLjQwNEw2LjUuMTEybDEuNjkgNC4wMSA0LjI1NC40MDQtMy4yMSAyLjg4Mi45NCA0LjI2eiIvPjwvc3ZnPg==\"/></div></span><span class=\"_2_R_DZ\">(5,046)</span></div><div class=\"_32g5_j\"><img height=\"21\" src=\"//static-assets-web.flixcart.com/fk-p-linchpin-web/fk-cp-zion/img/fa_62673a.png\"/></div><a class=\"_8VNy32\" href=\"/asus-tuf-gaming-f15-core-i5-10th-gen-8-gb-512-gb-ssd-windows-11-home-4-graphics-nvidia-geforce-gtx-1650-144-hz-fx506lhb-hn358w-laptop/p/itm4d930ab779cbd?pid=COMGF9Z7JYCFBKAP&amp;lid=LSTCOMGF9Z7JYCFBKAPXYET0O&amp;marketplace=FLIPKART&amp;q=gaming+laptops&amp;store=4rr%2Ftz1&amp;spotlightTagId=BestsellerId_4rr%2Ftz1&amp;srno=s_1_1&amp;otracker=search&amp;otracker1=search&amp;fm=organic&amp;iid=f823df0b-a918-4272-b453-97b0250495b4.COMGF9Z7JYCFBKAP.SEARCH&amp;ppt=None&amp;ppn=None&amp;ssid=nxre75z6tc0000001678449532727&amp;qH=a5acd8458468e203\" rel=\"noopener noreferrer\" target=\"_blank\"><div class=\"_25b18c\"><div class=\"_30jeq3\">₹49,990</div><div class=\"_3I9_wc\">₹<!-- -->70,990</div><div class=\"_3Ay6Sb\"><span>29% off</span></div></div><div class=\"_3tcB5a _2hu4Aw\"><div><div class=\"_2Tpdn3\" style=\"color:#000000;font-size:12px;font-weight:400\">Free delivery</div></div></div></a><div class=\"_2ZdXDB\"><div class=\"_3xFhiH\"><div class=\"_2Tpdn3 _18hQoS\" style=\"color:#000000;font-size:12px;font-weight:400\">No Cost EMI from ₹8,332/month</div></div></div><div class=\"nihHSd\"><div class=\"_3NnGYl\"><div class=\"_3PzNI-\"><span class=\"f3A4_V\"><label class=\"_2iDkf8\"><input class=\"_30VH1S\" readonly=\"\" type=\"checkbox\"/><div class=\"_24_Dny\"></div></label></span><label class=\"_6Up2sF\"><span>Add to Compare</span></label></div></div></div></div>"
      ]
     },
     "execution_count": 14,
     "metadata": {},
     "output_type": "execute_result"
    }
   ],
   "source": [
    "box = main_box[0]\n",
    "box"
   ]
  },
  {
   "cell_type": "code",
   "execution_count": 15,
   "metadata": {},
   "outputs": [
    {
     "name": "stdout",
     "output_type": "stream",
     "text": [
      "ASUS TUF Gaming F15 Core i5 10th Gen - (8 GB/512 GB SSD...\n",
      "₹49990\n",
      "4.4\n"
     ]
    }
   ],
   "source": [
    "title = box.find('a',{'class': 's1Q9rs'}).text.strip()\n",
    "price = box.find('div',{'class': '_30jeq3'}).text.replace(\",\",\"\").strip()\n",
    "review = box.find('div',{'class': '_3LWZlK'}).text.strip()\n",
    "print(title + \"\\n\" + price + \"\\n\" + review)"
   ]
  },
  {
   "cell_type": "code",
   "execution_count": 16,
   "metadata": {},
   "outputs": [],
   "source": [
    "data_list = []\n",
    "for box in main_box:\n",
    "    temp_dict = {}\n",
    "    temp_dict ['Title'] = box.find('a',{'class': 's1Q9rs'}).text.strip()\n",
    "    temp_dict ['Prices'] = box.find('div',{'class': '_30jeq3'}).text.replace(\"₹\", \"\").strip()\n",
    "    temp_dict ['Ratings'] = box.find('div',{'class': '_3LWZlK'})\n",
    "    if temp_dict['Ratings'] is not None:\n",
    "        temp_dict['Ratings'] = temp_dict['Ratings'].text.strip()\n",
    "    else:\n",
    "        temp_dict['Ratings'] = None\n",
    "\n",
    "    data_list.append(temp_dict)"
   ]
  },
  {
   "cell_type": "code",
   "execution_count": 17,
   "metadata": {},
   "outputs": [
    {
     "data": {
      "text/html": [
       "<div>\n",
       "<style scoped>\n",
       "    .dataframe tbody tr th:only-of-type {\n",
       "        vertical-align: middle;\n",
       "    }\n",
       "\n",
       "    .dataframe tbody tr th {\n",
       "        vertical-align: top;\n",
       "    }\n",
       "\n",
       "    .dataframe thead th {\n",
       "        text-align: right;\n",
       "    }\n",
       "</style>\n",
       "<table border=\"1\" class=\"dataframe\">\n",
       "  <thead>\n",
       "    <tr style=\"text-align: right;\">\n",
       "      <th></th>\n",
       "      <th>Title</th>\n",
       "      <th>Prices</th>\n",
       "      <th>Ratings</th>\n",
       "    </tr>\n",
       "  </thead>\n",
       "  <tbody>\n",
       "    <tr>\n",
       "      <th>0</th>\n",
       "      <td>ASUS TUF Gaming F15 Core i5 10th Gen - (8 GB/5...</td>\n",
       "      <td>49,990</td>\n",
       "      <td>4.4</td>\n",
       "    </tr>\n",
       "    <tr>\n",
       "      <th>1</th>\n",
       "      <td>ASUS TUF Gaming A17 with 90Whr Battery Ryzen 5...</td>\n",
       "      <td>53,990</td>\n",
       "      <td>4.4</td>\n",
       "    </tr>\n",
       "    <tr>\n",
       "      <th>2</th>\n",
       "      <td>MSI Katana GF66 Core i7 11th Gen - (16 GB/512 ...</td>\n",
       "      <td>79,990</td>\n",
       "      <td>4.3</td>\n",
       "    </tr>\n",
       "    <tr>\n",
       "      <th>3</th>\n",
       "      <td>Lenovo IdeaPad Ryzen 5 Hexa Core 5600H - (8 GB...</td>\n",
       "      <td>49,990</td>\n",
       "      <td>4.4</td>\n",
       "    </tr>\n",
       "    <tr>\n",
       "      <th>4</th>\n",
       "      <td>HP Victus Ryzen 5 Hexa Core 5600H - (8 GB/512 ...</td>\n",
       "      <td>57,990</td>\n",
       "      <td>4.2</td>\n",
       "    </tr>\n",
       "  </tbody>\n",
       "</table>\n",
       "</div>"
      ],
      "text/plain": [
       "                                               Title  Prices Ratings\n",
       "0  ASUS TUF Gaming F15 Core i5 10th Gen - (8 GB/5...  49,990     4.4\n",
       "1  ASUS TUF Gaming A17 with 90Whr Battery Ryzen 5...  53,990     4.4\n",
       "2  MSI Katana GF66 Core i7 11th Gen - (16 GB/512 ...  79,990     4.3\n",
       "3  Lenovo IdeaPad Ryzen 5 Hexa Core 5600H - (8 GB...  49,990     4.4\n",
       "4  HP Victus Ryzen 5 Hexa Core 5600H - (8 GB/512 ...  57,990     4.2"
      ]
     },
     "execution_count": 17,
     "metadata": {},
     "output_type": "execute_result"
    }
   ],
   "source": [
    "df = pd.DataFrame(data_list)\n",
    "df.head()"
   ]
  },
  {
   "cell_type": "code",
   "execution_count": 9,
   "metadata": {},
   "outputs": [],
   "source": [
    "df.to_csv('Laptops.csv', index=False, encoding='utf-8')"
   ]
  }
 ],
 "metadata": {
  "kernelspec": {
   "display_name": "Python 3",
   "language": "python",
   "name": "python3"
  },
  "language_info": {
   "codemirror_mode": {
    "name": "ipython",
    "version": 3
   },
   "file_extension": ".py",
   "mimetype": "text/x-python",
   "name": "python",
   "nbconvert_exporter": "python",
   "pygments_lexer": "ipython3",
   "version": "3.10.6"
  },
  "orig_nbformat": 4
 },
 "nbformat": 4,
 "nbformat_minor": 2
}
